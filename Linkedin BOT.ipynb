{
 "cells": [
  {
   "cell_type": "code",
   "execution_count": 1,
   "id": "c76ef738",
   "metadata": {},
   "outputs": [],
   "source": [
    "from selenium import webdriver\n",
    "from selenium.webdriver.common.by import By\n",
    "from selenium.webdriver.common.keys import Keys\n",
    "from selenium.webdriver.chrome.options import Options\n",
    "from selenium.webdriver.support.ui import WebDriverWait\n",
    "from selenium.webdriver.support import expected_conditions as EC\n",
    "from selenium.webdriver.common.action_chains import ActionChains \n",
    "import pandas as pd\n",
    "import time\n"
   ]
  },
  {
   "cell_type": "code",
   "execution_count": 2,
   "id": "64d13c9e",
   "metadata": {},
   "outputs": [],
   "source": [
    "driver = webdriver.Chrome()"
   ]
  },
  {
   "cell_type": "code",
   "execution_count": 3,
   "id": "3557aaa8",
   "metadata": {},
   "outputs": [],
   "source": [
    "def website():\n",
    "    website = \"https://www.linkedin.com/\"\n",
    "    driver.get(website)\n",
    "    time.sleep(3)"
   ]
  },
  {
   "cell_type": "code",
   "execution_count": 4,
   "id": "22bd043d",
   "metadata": {},
   "outputs": [],
   "source": [
    "def username(username_value):\n",
    "    username = driver.find_element(By.ID, \"session_key\")\n",
    "    username.click()\n",
    "    username.send_keys(username_value)\n",
    "    time.sleep(3)"
   ]
  },
  {
   "cell_type": "code",
   "execution_count": 5,
   "id": "923479ad",
   "metadata": {},
   "outputs": [],
   "source": [
    "def password(password_value):\n",
    "    password = driver.find_element(By.ID , \"session_password\")\n",
    "    password.click()\n",
    "    password.send_keys(password_value)\n",
    "    time.sleep(3)"
   ]
  },
  {
   "cell_type": "code",
   "execution_count": 6,
   "id": "7a6772ef",
   "metadata": {},
   "outputs": [],
   "source": [
    "def jobs_find():\n",
    "    button = driver.find_element(By.XPATH , \"/html/body/main/section[1]/div/div/form/div[2]/button\")\n",
    "    button.click()\n",
    "    time.sleep(5)\n",
    "    job_btn = driver.find_element(By.XPATH , \"/html/body/div[5]/header/div/nav/ul/li[3]/a\")\n",
    "    job_btn.click()\n",
    "    time.sleep(3)"
   ]
  },
  {
   "cell_type": "code",
   "execution_count": 7,
   "id": "8bc6165f",
   "metadata": {},
   "outputs": [],
   "source": [
    "def keyword_to_search(keyword):\n",
    "    search = driver.find_element(By.XPATH , \"/html/body/div[5]/header/div/div/div/div[2]/div[2]/div/div/input[1]\")\n",
    "    search.click()\n",
    "    search.send_keys(keyword)\n",
    "    time.sleep(5)\n",
    "    webdriver.ActionChains(driver).send_keys(Keys.RETURN).perform()\n",
    "    \n"
   ]
  },
  {
   "cell_type": "code",
   "execution_count": 8,
   "id": "0835dc70",
   "metadata": {},
   "outputs": [],
   "source": [
    "def job_listings(page_number):\n",
    "    button = driver.find_element(By.XPATH, f\"/html/body/div[5]/div[3]/div[4]/div/div/main/div/div[2]/div[1]/div/div[4]/ul/li[{page_number}]/button\")\n",
    "    ActionChains(driver)\\\n",
    "            .scroll_to_element(button)\\\n",
    "            .perform()\n",
    "    global url\n",
    "    global list\n",
    "    table = driver.find_elements(By.CSS_SELECTOR, '.job-card-list__title')\n",
    "    url = []\n",
    "    for link in table:\n",
    "        link.click()\n",
    "        try:\n",
    "            time.sleep(2)\n",
    "            current_url = driver.current_url\n",
    "            url.append(current_url)\n",
    "            time.sleep(2)\n",
    "        except:\n",
    "            pass\n",
    "    job_titles = [title.text for title in table]\n",
    "    list = []\n",
    "    for title in job_titles:\n",
    "        list.append(title)\n"
   ]
  },
  {
   "cell_type": "code",
   "execution_count": 9,
   "id": "8773a678",
   "metadata": {},
   "outputs": [],
   "source": [
    "def next_page(page_number):\n",
    "    button = driver.find_element(By.XPATH, f\"/html/body/div[5]/div[3]/div[4]/div/div/main/div/div[2]/div[1]/div/div[4]/ul/li[{page_number}]/button\")\n",
    "    ActionChains(driver)\\\n",
    "            .scroll_to_element(button)\\\n",
    "            .perform()\n",
    "    button.click()"
   ]
  },
  {
   "cell_type": "code",
   "execution_count": null,
   "id": "ab3b677f",
   "metadata": {},
   "outputs": [],
   "source": [
    "website()\n",
    "username(\"XXXX\")\n",
    "password(\"XXXX\")\n",
    "jobs_find()\n",
    "keyword_to_search(\"XXXX\")\n",
    "time.sleep(2)\n",
    "for i in range(1,3):\n",
    "    job_listings(2)\n",
    "time.sleep(2)\n",
    "next_page(3)\n",
    "for i in range(1,3):\n",
    "    job_listings(3)\n",
    "next_page(4)\n",
    "for i in range(1,3):\n",
    "    job_listings(4)"
   ]
  },
  {
   "cell_type": "code",
   "execution_count": null,
   "id": "430bc5f0",
   "metadata": {},
   "outputs": [],
   "source": []
  }
 ],
 "metadata": {
  "kernelspec": {
   "display_name": "Python 3 (ipykernel)",
   "language": "python",
   "name": "python3"
  },
  "language_info": {
   "codemirror_mode": {
    "name": "ipython",
    "version": 3
   },
   "file_extension": ".py",
   "mimetype": "text/x-python",
   "name": "python",
   "nbconvert_exporter": "python",
   "pygments_lexer": "ipython3",
   "version": "3.9.13"
  }
 },
 "nbformat": 4,
 "nbformat_minor": 5
}
